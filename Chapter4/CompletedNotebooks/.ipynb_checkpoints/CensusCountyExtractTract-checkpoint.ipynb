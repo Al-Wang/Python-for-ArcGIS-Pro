{
 "cells": [
  {
   "cell_type": "code",
   "execution_count": 147,
   "metadata": {},
   "outputs": [],
   "source": [
    "import os"
   ]
  },
  {
   "cell_type": "code",
   "execution_count": 148,
   "metadata": {},
   "outputs": [],
   "source": [
    "usCounty = r\"C:\\PythonBook\\Chapter4\\Chapter4\\US_Full.gdb\\tl_2019_us_county\"\n",
    "caTract = r\"C:\\PythonBook\\Chapter4\\Chapter4\\California.gdb\\tl_2019_06_tract\""
   ]
  },
  {
   "cell_type": "code",
   "execution_count": 157,
   "metadata": {},
   "outputs": [],
   "source": [
    "countyLookUp = {}"
   ]
  },
  {
   "cell_type": "code",
   "execution_count": 158,
   "metadata": {},
   "outputs": [],
   "source": [
    "sql = \"STATEFP = '06'\""
   ]
  },
  {
   "cell_type": "code",
   "execution_count": 159,
   "metadata": {},
   "outputs": [
    {
     "name": "stdout",
     "output_type": "stream",
     "text": [
      "Adding key: Sierra County and value: 091 to countyLookUp\n",
      "Adding key: Sacramento County and value: 067 to countyLookUp\n",
      "Adding key: Santa Barbara County and value: 083 to countyLookUp\n",
      "Adding key: Calaveras County and value: 009 to countyLookUp\n",
      "Adding key: Ventura County and value: 111 to countyLookUp\n",
      "Adding key: Los Angeles County and value: 037 to countyLookUp\n",
      "Adding key: Sonoma County and value: 097 to countyLookUp\n",
      "Adding key: Kings County and value: 031 to countyLookUp\n",
      "Adding key: San Diego County and value: 073 to countyLookUp\n",
      "Adding key: Placer County and value: 061 to countyLookUp\n",
      "Adding key: San Francisco County and value: 075 to countyLookUp\n",
      "Adding key: Marin County and value: 041 to countyLookUp\n",
      "Adding key: Mariposa County and value: 043 to countyLookUp\n",
      "Adding key: Lassen County and value: 035 to countyLookUp\n",
      "Adding key: Napa County and value: 055 to countyLookUp\n",
      "Adding key: Shasta County and value: 089 to countyLookUp\n",
      "Adding key: Monterey County and value: 053 to countyLookUp\n",
      "Adding key: Trinity County and value: 105 to countyLookUp\n",
      "Adding key: Mendocino County and value: 045 to countyLookUp\n",
      "Adding key: Inyo County and value: 027 to countyLookUp\n",
      "Adding key: Mono County and value: 051 to countyLookUp\n",
      "Adding key: Tuolumne County and value: 109 to countyLookUp\n",
      "Adding key: Solano County and value: 095 to countyLookUp\n",
      "Adding key: San Bernardino County and value: 071 to countyLookUp\n",
      "Adding key: Contra Costa County and value: 013 to countyLookUp\n",
      "Adding key: Alpine County and value: 003 to countyLookUp\n",
      "Adding key: El Dorado County and value: 017 to countyLookUp\n",
      "Adding key: Yolo County and value: 113 to countyLookUp\n",
      "Adding key: Yuba County and value: 115 to countyLookUp\n",
      "Adding key: San Benito County and value: 069 to countyLookUp\n",
      "Adding key: Humboldt County and value: 023 to countyLookUp\n",
      "Adding key: Riverside County and value: 065 to countyLookUp\n",
      "Adding key: Kern County and value: 029 to countyLookUp\n",
      "Adding key: Colusa County and value: 011 to countyLookUp\n",
      "Adding key: Del Norte County and value: 015 to countyLookUp\n",
      "Adding key: Modoc County and value: 049 to countyLookUp\n",
      "Adding key: Fresno County and value: 019 to countyLookUp\n",
      "Adding key: Madera County and value: 039 to countyLookUp\n",
      "Adding key: Santa Clara County and value: 085 to countyLookUp\n",
      "Adding key: Tehama County and value: 103 to countyLookUp\n",
      "Adding key: San Joaquin County and value: 077 to countyLookUp\n",
      "Adding key: Alameda County and value: 001 to countyLookUp\n",
      "Adding key: Nevada County and value: 057 to countyLookUp\n",
      "Adding key: Butte County and value: 007 to countyLookUp\n",
      "Adding key: Merced County and value: 047 to countyLookUp\n",
      "Adding key: Tulare County and value: 107 to countyLookUp\n",
      "Adding key: Stanislaus County and value: 099 to countyLookUp\n",
      "Adding key: Orange County and value: 059 to countyLookUp\n",
      "Adding key: Imperial County and value: 025 to countyLookUp\n",
      "Adding key: Sutter County and value: 101 to countyLookUp\n",
      "Adding key: Amador County and value: 005 to countyLookUp\n",
      "Adding key: Lake County and value: 033 to countyLookUp\n",
      "Adding key: Plumas County and value: 063 to countyLookUp\n",
      "Adding key: San Mateo County and value: 081 to countyLookUp\n",
      "Adding key: Siskiyou County and value: 093 to countyLookUp\n",
      "Adding key: Santa Cruz County and value: 087 to countyLookUp\n",
      "Adding key: Glenn County and value: 021 to countyLookUp\n",
      "Adding key: San Luis Obispo County and value: 079 to countyLookUp\n"
     ]
    }
   ],
   "source": [
    "with arcpy.da.SearchCursor(usCounty,['STATEFP','COUNTYFP','NAMELSAD'],sql) as cursor:\n",
    "    for row in cursor:\n",
    "        if row[2] not in countyLookUp:\n",
    "            countyLookUp[row[2]] = row[1]\n",
    "            print(\"Adding key: {0} and value: {1} to countyLookUp\".format(row[2],row[1]))"
   ]
  },
  {
   "cell_type": "code",
   "execution_count": 160,
   "metadata": {
    "scrolled": true
   },
   "outputs": [
    {
     "data": {
      "text/plain": [
       "58"
      ]
     },
     "execution_count": 160,
     "metadata": {},
     "output_type": "execute_result"
    }
   ],
   "source": [
    "len(countyLookUp)"
   ]
  },
  {
   "cell_type": "code",
   "execution_count": 161,
   "metadata": {},
   "outputs": [],
   "source": [
    "gdb = r\"C:\\PythonBook\\Chapter4\\Chapter4\\California.gdb"
   ]
  },
  {
   "cell_type": "code",
   "execution_count": 162,
   "metadata": {},
   "outputs": [],
   "source": [
    "countyName = \"Alameda County\""
   ]
  },
  {
   "cell_type": "code",
   "execution_count": 163,
   "metadata": {
    "scrolled": false
   },
   "outputs": [
    {
     "name": "stdout",
     "output_type": "stream",
     "text": [
      "001\n"
     ]
    }
   ],
   "source": [
    "countyFIPS = countyLookUp[countyName]\n",
    "print(countyFIPS)"
   ]
  },
  {
   "cell_type": "code",
   "execution_count": 164,
   "metadata": {},
   "outputs": [
    {
     "name": "stdout",
     "output_type": "stream",
     "text": [
      "GEOID LIKE '06001%'\n"
     ]
    }
   ],
   "source": [
    "sql = \"GEOID LIKE '06{0}%'\".format(countyFIPS)\n",
    "print(sql)"
   ]
  },
  {
   "cell_type": "code",
   "execution_count": 167,
   "metadata": {},
   "outputs": [
    {
     "name": "stdout",
     "output_type": "stream",
     "text": [
      "C:\\PythonBook\\Chapter4\\Chapter4\\California.gdb\\Tracts_AlamedaCounty\n"
     ]
    }
   ],
   "source": [
    "tractCounty = countyName.replace(\" \",\"\")\n",
    "tractCountyFull = os.path.join(gdb,\"Tracts_\"+tractCounty)\n",
    "print(tractCountyFull)"
   ]
  },
  {
   "cell_type": "code",
   "execution_count": 168,
   "metadata": {
    "scrolled": true
   },
   "outputs": [
    {
     "data": {
      "text/html": [
       "<h2>Output</h2>C:\\PythonBook\\Chapter4\\Chapter4\\California.gdb\\Tracts_AlamedaCounty<h2>Messages</h2>Start Time: Tuesday, July 20, 2021 10:49:42 PM<br/>Succeeded at Tuesday, July 20, 2021 10:49:43 PM (Elapsed Time: 1.23 seconds)<br/><style>.rendered_html td, .rendered_html th {text-align: left;}.rendered_html tbody {border: 1px solid black;}</style>"
      ],
      "text/plain": [
       "<Result 'C:\\\\PythonBook\\\\Chapter4\\\\Chapter4\\\\California.gdb\\\\Tracts_AlamedaCounty'>"
      ]
     },
     "execution_count": 168,
     "metadata": {},
     "output_type": "execute_result"
    }
   ],
   "source": [
    "arcpy.analysis.Select(caTract,tractCountyFull,sql)"
   ]
  }
 ],
 "metadata": {
  "kernelspec": {
   "display_name": "ArcGISPro",
   "language": "Python",
   "name": "python3"
  },
  "language_info": {
   "file_extension": ".py",
   "name": "python",
   "version": "3"
  }
 },
 "nbformat": 4,
 "nbformat_minor": 2
}
