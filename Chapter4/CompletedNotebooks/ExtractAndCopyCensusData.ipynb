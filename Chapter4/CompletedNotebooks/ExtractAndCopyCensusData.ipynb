{
 "cells": [
  {
   "cell_type": "markdown",
   "metadata": {},
   "source": [
    "# Extract Multiple Zip Files and Move to Geodatabases"
   ]
  },
  {
   "cell_type": "code",
   "execution_count": 28,
   "metadata": {},
   "outputs": [],
   "source": [
    "import os\n",
    "from zipfile import ZipFile"
   ]
  },
  {
   "cell_type": "code",
   "execution_count": 29,
   "metadata": {},
   "outputs": [],
   "source": [
    "zipWksp = r\"C:\\PythonBook\\Chapter4\\Chapter4CensusDownloads\"\n",
    "gdbWksp = r\"C:\\PythonBook\\Chapter4\\Chapter4\""
   ]
  },
  {
   "cell_type": "code",
   "execution_count": 54,
   "metadata": {},
   "outputs": [],
   "source": [
    "zipWalk = os.walk(zipWksp)"
   ]
  },
  {
   "cell_type": "code",
   "execution_count": 55,
   "metadata": {},
   "outputs": [],
   "source": [
    "for dirpath, dirnames, filenames in zipWalk:\n",
    "    for filename in filenames: \n",
    "        if filename[-4:] == \".zip\":\n",
    "            path = os.path.join(dirpath,filename[:-4])\n",
    "            if os.path.isdir(path) == False:\n",
    "                os.mkdir(path)\n",
    "            with ZipFile(os.path.join(dirpath,filename),\"r\") as zipObj:\n",
    "                zipObj.extractall(path)"
   ]
  },
  {
   "cell_type": "code",
   "execution_count": 63,
   "metadata": {},
   "outputs": [],
   "source": [
    "stateCountry_dict = {\n",
    "    \"04\" : \"Arizona\",\n",
    "    \"06\" : \"California\",\n",
    "    \"16\" : \"Idaho\",\n",
    "    \"32\" : \"Nevada\",\n",
    "    \"41\" : \"Oregon\",\n",
    "    \"53\" : \"Washington\",\n",
    "    \"56\" : \"Wyoming\",\n",
    "    \"us\" : \"US_Full\",\n",
    "}"
   ]
  },
  {
   "cell_type": "code",
   "execution_count": 65,
   "metadata": {},
   "outputs": [],
   "source": [
    "shpWalk = arcpy.da.Walk(zipWksp)"
   ]
  },
  {
   "cell_type": "code",
   "execution_count": 67,
   "metadata": {},
   "outputs": [
    {
     "name": "stdout",
     "output_type": "stream",
     "text": [
      "C:\\PythonBook\\Chapter4\\Chapter4CensusDownloads\\tl_2019_06_arealm\\tl_2019_06_arealm.shp\n",
      "06\n",
      "California\n",
      "C:\\PythonBook\\Chapter4\\Chapter4\\California.gdb\\tl_2019_06_arealm was copied to C:\\PythonBook\\Chapter4\\Chapter4\\California.gdb\n",
      "C:\\PythonBook\\Chapter4\\Chapter4CensusDownloads\\tl_2019_06_pointlm\\tl_2019_06_pointlm.shp\n",
      "06\n",
      "California\n",
      "C:\\PythonBook\\Chapter4\\Chapter4\\California.gdb\\tl_2019_06_pointlm was copied to C:\\PythonBook\\Chapter4\\Chapter4\\California.gdb\n",
      "C:\\PythonBook\\Chapter4\\Chapter4CensusDownloads\\tl_2019_06_prisecroads\\tl_2019_06_prisecroads.shp\n",
      "06\n",
      "California\n",
      "C:\\PythonBook\\Chapter4\\Chapter4\\California.gdb\\tl_2019_06_prisecroads was copied to C:\\PythonBook\\Chapter4\\Chapter4\\California.gdb\n",
      "C:\\PythonBook\\Chapter4\\Chapter4CensusDownloads\\tl_2019_06_tract\\tl_2019_06_tract.shp\n",
      "06\n",
      "California\n",
      "C:\\PythonBook\\Chapter4\\Chapter4\\California.gdb\\tl_2019_06_tract was copied to C:\\PythonBook\\Chapter4\\Chapter4\\California.gdb\n",
      "C:\\PythonBook\\Chapter4\\Chapter4CensusDownloads\\tl_2019_16_tract\\tl_2019_16_tract.shp\n",
      "16\n",
      "Idaho\n",
      "C:\\PythonBook\\Chapter4\\Chapter4\\Idaho.gdb\\tl_2019_16_tract was copied to C:\\PythonBook\\Chapter4\\Chapter4\\Idaho.gdb\n",
      "C:\\PythonBook\\Chapter4\\Chapter4CensusDownloads\\tl_2019_32_prisecroads\\tl_2019_32_prisecroads.shp\n",
      "32\n",
      "Nevada\n",
      "C:\\PythonBook\\Chapter4\\Chapter4\\Nevada.gdb\\tl_2019_32_prisecroads was copied to C:\\PythonBook\\Chapter4\\Chapter4\\Nevada.gdb\n",
      "C:\\PythonBook\\Chapter4\\Chapter4CensusDownloads\\tl_2019_41_pointlm\\tl_2019_41_pointlm.shp\n",
      "41\n",
      "Oregon\n",
      "C:\\PythonBook\\Chapter4\\Chapter4\\Oregon.gdb\\tl_2019_41_pointlm was copied to C:\\PythonBook\\Chapter4\\Chapter4\\Oregon.gdb\n",
      "C:\\PythonBook\\Chapter4\\Chapter4CensusDownloads\\tl_2019_41_prisecroads\\tl_2019_41_prisecroads.shp\n",
      "41\n",
      "Oregon\n",
      "C:\\PythonBook\\Chapter4\\Chapter4\\Oregon.gdb\\tl_2019_41_prisecroads was copied to C:\\PythonBook\\Chapter4\\Chapter4\\Oregon.gdb\n",
      "C:\\PythonBook\\Chapter4\\Chapter4CensusDownloads\\tl_2019_41_tract\\tl_2019_41_tract.shp\n",
      "41\n",
      "Oregon\n",
      "C:\\PythonBook\\Chapter4\\Chapter4\\Oregon.gdb\\tl_2019_41_tract was copied to C:\\PythonBook\\Chapter4\\Chapter4\\Oregon.gdb\n",
      "C:\\PythonBook\\Chapter4\\Chapter4CensusDownloads\\tl_2019_53_arealm\\tl_2019_53_arealm.shp\n",
      "53\n",
      "Washington\n",
      "C:\\PythonBook\\Chapter4\\Chapter4\\Washington.gdb\\tl_2019_53_arealm was copied to C:\\PythonBook\\Chapter4\\Chapter4\\Washington.gdb\n",
      "C:\\PythonBook\\Chapter4\\Chapter4CensusDownloads\\tl_2019_53_pointlm\\tl_2019_53_pointlm.shp\n",
      "53\n",
      "Washington\n",
      "C:\\PythonBook\\Chapter4\\Chapter4\\Washington.gdb\\tl_2019_53_pointlm was copied to C:\\PythonBook\\Chapter4\\Chapter4\\Washington.gdb\n",
      "C:\\PythonBook\\Chapter4\\Chapter4CensusDownloads\\tl_2019_53_prisecroads\\tl_2019_53_prisecroads.shp\n",
      "53\n",
      "Washington\n",
      "C:\\PythonBook\\Chapter4\\Chapter4\\Washington.gdb\\tl_2019_53_prisecroads was copied to C:\\PythonBook\\Chapter4\\Chapter4\\Washington.gdb\n",
      "C:\\PythonBook\\Chapter4\\Chapter4CensusDownloads\\tl_2019_53_tract\\tl_2019_53_tract.shp\n",
      "53\n",
      "Washington\n",
      "C:\\PythonBook\\Chapter4\\Chapter4\\Washington.gdb\\tl_2019_53_tract was copied to C:\\PythonBook\\Chapter4\\Chapter4\\Washington.gdb\n",
      "C:\\PythonBook\\Chapter4\\Chapter4CensusDownloads\\tl_2019_56_pointlm\\tl_2019_56_pointlm.shp\n",
      "56\n",
      "Wyoming\n",
      "C:\\PythonBook\\Chapter4\\Chapter4\\Wyoming.gdb\\tl_2019_56_pointlm was copied to C:\\PythonBook\\Chapter4\\Chapter4\\Wyoming.gdb\n",
      "C:\\PythonBook\\Chapter4\\Chapter4CensusDownloads\\tl_2019_56_tract\\tl_2019_56_tract.shp\n",
      "56\n",
      "Wyoming\n",
      "C:\\PythonBook\\Chapter4\\Chapter4\\Wyoming.gdb\\tl_2019_56_tract was copied to C:\\PythonBook\\Chapter4\\Chapter4\\Wyoming.gdb\n",
      "C:\\PythonBook\\Chapter4\\Chapter4CensusDownloads\\tl_2019_us_cd116\\tl_2019_us_cd116.shp\n",
      "us\n",
      "US_Full\n",
      "C:\\PythonBook\\Chapter4\\Chapter4\\US_Full.gdb\\tl_2019_us_cd116 was copied to C:\\PythonBook\\Chapter4\\Chapter4\\US_Full.gdb\n",
      "C:\\PythonBook\\Chapter4\\Chapter4CensusDownloads\\tl_2019_us_county\\tl_2019_us_county.shp\n",
      "us\n",
      "US_Full\n",
      "C:\\PythonBook\\Chapter4\\Chapter4\\US_Full.gdb\\tl_2019_us_county was copied to C:\\PythonBook\\Chapter4\\Chapter4\\US_Full.gdb\n",
      "C:\\PythonBook\\Chapter4\\Chapter4CensusDownloads\\tl_2019_us_rails\\tl_2019_us_rails.shp\n",
      "us\n",
      "US_Full\n",
      "C:\\PythonBook\\Chapter4\\Chapter4\\US_Full.gdb\\tl_2019_us_rails was copied to C:\\PythonBook\\Chapter4\\Chapter4\\US_Full.gdb\n",
      "C:\\PythonBook\\Chapter4\\Chapter4CensusDownloads\\tl_2019_us_uac10\\tl_2019_us_uac10.shp\n",
      "us\n",
      "US_Full\n",
      "C:\\PythonBook\\Chapter4\\Chapter4\\US_Full.gdb\\tl_2019_us_uac10 was copied to C:\\PythonBook\\Chapter4\\Chapter4\\US_Full.gdb\n",
      "C:\\PythonBook\\Chapter4\\Chapter4CensusDownloads\\tl_2019_us_zcta510\\tl_2019_us_zcta510.shp\n",
      "us\n",
      "US_Full\n",
      "C:\\PythonBook\\Chapter4\\Chapter4\\US_Full.gdb\\tl_2019_us_zcta510 was copied to C:\\PythonBook\\Chapter4\\Chapter4\\US_Full.gdb\n",
      "C:\\PythonBook\\Chapter4\\Chapter4CensusDownloads\\tl_2020_04_place\\tl_2020_04_place.shp\n",
      "04\n",
      "Arizona\n",
      "C:\\PythonBook\\Chapter4\\Chapter4\\Arizona.gdb\\tl_2020_04_place was copied to C:\\PythonBook\\Chapter4\\Chapter4\\Arizona.gdb\n",
      "C:\\PythonBook\\Chapter4\\Chapter4CensusDownloads\\tl_2020_06_place\\tl_2020_06_place.shp\n",
      "06\n",
      "California\n",
      "C:\\PythonBook\\Chapter4\\Chapter4\\California.gdb\\tl_2020_06_place was copied to C:\\PythonBook\\Chapter4\\Chapter4\\California.gdb\n",
      "C:\\PythonBook\\Chapter4\\Chapter4CensusDownloads\\tl_2020_16_place\\tl_2020_16_place.shp\n",
      "16\n",
      "Idaho\n",
      "C:\\PythonBook\\Chapter4\\Chapter4\\Idaho.gdb\\tl_2020_16_place was copied to C:\\PythonBook\\Chapter4\\Chapter4\\Idaho.gdb\n",
      "C:\\PythonBook\\Chapter4\\Chapter4CensusDownloads\\tl_2020_32_place\\tl_2020_32_place.shp\n",
      "32\n",
      "Nevada\n",
      "C:\\PythonBook\\Chapter4\\Chapter4\\Nevada.gdb\\tl_2020_32_place was copied to C:\\PythonBook\\Chapter4\\Chapter4\\Nevada.gdb\n",
      "C:\\PythonBook\\Chapter4\\Chapter4CensusDownloads\\tl_2020_41_place\\tl_2020_41_place.shp\n",
      "41\n",
      "Oregon\n",
      "C:\\PythonBook\\Chapter4\\Chapter4\\Oregon.gdb\\tl_2020_41_place was copied to C:\\PythonBook\\Chapter4\\Chapter4\\Oregon.gdb\n",
      "C:\\PythonBook\\Chapter4\\Chapter4CensusDownloads\\tl_2020_53_place\\tl_2020_53_place.shp\n",
      "53\n",
      "Washington\n",
      "C:\\PythonBook\\Chapter4\\Chapter4\\Washington.gdb\\tl_2020_53_place was copied to C:\\PythonBook\\Chapter4\\Chapter4\\Washington.gdb\n"
     ]
    }
   ],
   "source": [
    "for dirpath, dirnames, filenames in shpWalk:\n",
    "    for filename in filenames:\n",
    "        fcName = filename[:-4]\n",
    "        censusType = filename.split(\"_\")[2]\n",
    "        fileFullPath = os.path.join(dirpath,filename)\n",
    "        stateCountry = stateCountry_dict[censusType]\n",
    "        print(fileFullPath)\n",
    "        print(censusType)\n",
    "        print(stateCountry)\n",
    "        gdb = os.path.join(gdbWksp,stateCountry+\".gdb\")\n",
    "        if arcpy.Exists(gdb) == False:\n",
    "            arcpy.management.CreateFileGDB(gdbWksp,stateCountry)\n",
    "        fcFullPath = os.path.join(gdb,fcName)\n",
    "        arcpy.management.CopyFeatures(fileFullPath,fcFullPath)\n",
    "        print(fcFullPath + \" was copied to \" + gdb)\n",
    "        "
   ]
  },
  {
   "cell_type": "code",
   "execution_count": null,
   "metadata": {},
   "outputs": [],
   "source": []
  }
 ],
 "metadata": {
  "kernelspec": {
   "display_name": "ArcGISPro",
   "language": "Python",
   "name": "python3"
  },
  "language_info": {
   "file_extension": ".py",
   "name": "python",
   "version": "3"
  }
 },
 "nbformat": 4,
 "nbformat_minor": 2
}
