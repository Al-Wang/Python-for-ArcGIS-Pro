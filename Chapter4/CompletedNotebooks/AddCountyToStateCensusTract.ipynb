{
 "cells": [
  {
   "cell_type": "code",
   "execution_count": 292,
   "metadata": {},
   "outputs": [],
   "source": [
    "import os"
   ]
  },
  {
   "cell_type": "code",
   "execution_count": 179,
   "metadata": {},
   "outputs": [],
   "source": [
    "usCounty = r\"C:\\PythonBook\\Chapter4\\Chapter4\\US_Full.gdb\\tl_2019_us_county\"\n",
    "tract = r\"C:\\PythonBook\\Chapter4\\Chapter4\\California.gdb\\tl_2019_06_tract\""
   ]
  },
  {
   "cell_type": "code",
   "execution_count": 180,
   "metadata": {},
   "outputs": [],
   "source": [
    "countyLookUp = {}"
   ]
  },
  {
   "cell_type": "code",
   "execution_count": 181,
   "metadata": {},
   "outputs": [],
   "source": [
    "sql = \"STATEFP = '06'\""
   ]
  },
  {
   "cell_type": "code",
   "execution_count": 182,
   "metadata": {},
   "outputs": [
    {
     "name": "stdout",
     "output_type": "stream",
     "text": [
      "Adding key: Sierra County and value: 091 to countyLookUp\n",
      "Adding key: Sacramento County and value: 067 to countyLookUp\n",
      "Adding key: Santa Barbara County and value: 083 to countyLookUp\n",
      "Adding key: Calaveras County and value: 009 to countyLookUp\n",
      "Adding key: Ventura County and value: 111 to countyLookUp\n",
      "Adding key: Los Angeles County and value: 037 to countyLookUp\n",
      "Adding key: Sonoma County and value: 097 to countyLookUp\n",
      "Adding key: Kings County and value: 031 to countyLookUp\n",
      "Adding key: San Diego County and value: 073 to countyLookUp\n",
      "Adding key: Placer County and value: 061 to countyLookUp\n",
      "Adding key: San Francisco County and value: 075 to countyLookUp\n",
      "Adding key: Marin County and value: 041 to countyLookUp\n",
      "Adding key: Mariposa County and value: 043 to countyLookUp\n",
      "Adding key: Lassen County and value: 035 to countyLookUp\n",
      "Adding key: Napa County and value: 055 to countyLookUp\n",
      "Adding key: Shasta County and value: 089 to countyLookUp\n",
      "Adding key: Monterey County and value: 053 to countyLookUp\n",
      "Adding key: Trinity County and value: 105 to countyLookUp\n",
      "Adding key: Mendocino County and value: 045 to countyLookUp\n",
      "Adding key: Inyo County and value: 027 to countyLookUp\n",
      "Adding key: Mono County and value: 051 to countyLookUp\n",
      "Adding key: Tuolumne County and value: 109 to countyLookUp\n",
      "Adding key: Solano County and value: 095 to countyLookUp\n",
      "Adding key: San Bernardino County and value: 071 to countyLookUp\n",
      "Adding key: Contra Costa County and value: 013 to countyLookUp\n",
      "Adding key: Alpine County and value: 003 to countyLookUp\n",
      "Adding key: El Dorado County and value: 017 to countyLookUp\n",
      "Adding key: Yolo County and value: 113 to countyLookUp\n",
      "Adding key: Yuba County and value: 115 to countyLookUp\n",
      "Adding key: San Benito County and value: 069 to countyLookUp\n",
      "Adding key: Humboldt County and value: 023 to countyLookUp\n",
      "Adding key: Riverside County and value: 065 to countyLookUp\n",
      "Adding key: Kern County and value: 029 to countyLookUp\n",
      "Adding key: Colusa County and value: 011 to countyLookUp\n",
      "Adding key: Del Norte County and value: 015 to countyLookUp\n",
      "Adding key: Modoc County and value: 049 to countyLookUp\n",
      "Adding key: Fresno County and value: 019 to countyLookUp\n",
      "Adding key: Madera County and value: 039 to countyLookUp\n",
      "Adding key: Santa Clara County and value: 085 to countyLookUp\n",
      "Adding key: Tehama County and value: 103 to countyLookUp\n",
      "Adding key: San Joaquin County and value: 077 to countyLookUp\n",
      "Adding key: Alameda County and value: 001 to countyLookUp\n",
      "Adding key: Nevada County and value: 057 to countyLookUp\n",
      "Adding key: Butte County and value: 007 to countyLookUp\n",
      "Adding key: Merced County and value: 047 to countyLookUp\n",
      "Adding key: Tulare County and value: 107 to countyLookUp\n",
      "Adding key: Stanislaus County and value: 099 to countyLookUp\n",
      "Adding key: Orange County and value: 059 to countyLookUp\n",
      "Adding key: Imperial County and value: 025 to countyLookUp\n",
      "Adding key: Sutter County and value: 101 to countyLookUp\n",
      "Adding key: Amador County and value: 005 to countyLookUp\n",
      "Adding key: Lake County and value: 033 to countyLookUp\n",
      "Adding key: Plumas County and value: 063 to countyLookUp\n",
      "Adding key: San Mateo County and value: 081 to countyLookUp\n",
      "Adding key: Siskiyou County and value: 093 to countyLookUp\n",
      "Adding key: Santa Cruz County and value: 087 to countyLookUp\n",
      "Adding key: Glenn County and value: 021 to countyLookUp\n",
      "Adding key: San Luis Obispo County and value: 079 to countyLookUp\n"
     ]
    }
   ],
   "source": [
    "with arcpy.da.SearchCursor(usCounty,['STATEFP','COUNTYFP','NAMELSAD'],sql) as cursor:\n",
    "    for row in cursor:\n",
    "        if row[2] not in countyLookUp:\n",
    "            countyLookUp[row[2]] = row[1]\n",
    "            print(\"Adding key: {0} and value: {1} to countyLookUp\".format(row[2],row[1]))"
   ]
  },
  {
   "cell_type": "code",
   "execution_count": 183,
   "metadata": {
    "scrolled": false
   },
   "outputs": [
    {
     "data": {
      "text/plain": [
       "58"
      ]
     },
     "execution_count": 183,
     "metadata": {},
     "output_type": "execute_result"
    }
   ],
   "source": [
    "len(countyLookUp)"
   ]
  },
  {
   "cell_type": "code",
   "execution_count": 184,
   "metadata": {
    "scrolled": true
   },
   "outputs": [
    {
     "data": {
      "text/html": [
       "<h2>Output</h2>C:\\PythonBook\\Chapter4\\Chapter4\\California.gdb\\tl_2019_06_tract<h2>Messages</h2>Start Time: Wednesday, July 21, 2021 8:28:29 PM<br/>Adding CountyName to tl_2019_06_tract...<br/>Succeeded at Wednesday, July 21, 2021 8:28:30 PM (Elapsed Time: 0.88 seconds)<br/><style>.rendered_html td, .rendered_html th {text-align: left;}.rendered_html tbody {border: 1px solid black;}</style>"
      ],
      "text/plain": [
       "<Result 'C:\\\\PythonBook\\\\Chapter4\\\\Chapter4\\\\California.gdb\\\\tl_2019_06_tract'>"
      ]
     },
     "execution_count": 184,
     "metadata": {},
     "output_type": "execute_result"
    }
   ],
   "source": [
    "arcpy.management.AddField(tract,\"CountyName\",\"STRING\")"
   ]
  },
  {
   "cell_type": "code",
   "execution_count": 190,
   "metadata": {},
   "outputs": [
    {
     "name": "stdout",
     "output_type": "stream",
     "text": [
      "Sierra County\n",
      "091\n",
      "GEOID LIKE '06091%'\n",
      "Sacramento County\n",
      "067\n",
      "GEOID LIKE '06067%'\n",
      "Santa Barbara County\n",
      "083\n",
      "GEOID LIKE '06083%'\n",
      "Calaveras County\n",
      "009\n",
      "GEOID LIKE '06009%'\n",
      "Ventura County\n",
      "111\n",
      "GEOID LIKE '06111%'\n",
      "Los Angeles County\n",
      "037\n",
      "GEOID LIKE '06037%'\n",
      "Sonoma County\n",
      "097\n",
      "GEOID LIKE '06097%'\n",
      "Kings County\n",
      "031\n",
      "GEOID LIKE '06031%'\n",
      "San Diego County\n",
      "073\n",
      "GEOID LIKE '06073%'\n",
      "Placer County\n",
      "061\n",
      "GEOID LIKE '06061%'\n",
      "San Francisco County\n",
      "075\n",
      "GEOID LIKE '06075%'\n",
      "Marin County\n",
      "041\n",
      "GEOID LIKE '06041%'\n",
      "Mariposa County\n",
      "043\n",
      "GEOID LIKE '06043%'\n",
      "Lassen County\n",
      "035\n",
      "GEOID LIKE '06035%'\n",
      "Napa County\n",
      "055\n",
      "GEOID LIKE '06055%'\n",
      "Shasta County\n",
      "089\n",
      "GEOID LIKE '06089%'\n",
      "Monterey County\n",
      "053\n",
      "GEOID LIKE '06053%'\n",
      "Trinity County\n",
      "105\n",
      "GEOID LIKE '06105%'\n",
      "Mendocino County\n",
      "045\n",
      "GEOID LIKE '06045%'\n",
      "Inyo County\n",
      "027\n",
      "GEOID LIKE '06027%'\n",
      "Mono County\n",
      "051\n",
      "GEOID LIKE '06051%'\n",
      "Tuolumne County\n",
      "109\n",
      "GEOID LIKE '06109%'\n",
      "Solano County\n",
      "095\n",
      "GEOID LIKE '06095%'\n",
      "San Bernardino County\n",
      "071\n",
      "GEOID LIKE '06071%'\n",
      "Contra Costa County\n",
      "013\n",
      "GEOID LIKE '06013%'\n",
      "Alpine County\n",
      "003\n",
      "GEOID LIKE '06003%'\n",
      "El Dorado County\n",
      "017\n",
      "GEOID LIKE '06017%'\n",
      "Yolo County\n",
      "113\n",
      "GEOID LIKE '06113%'\n",
      "Yuba County\n",
      "115\n",
      "GEOID LIKE '06115%'\n",
      "San Benito County\n",
      "069\n",
      "GEOID LIKE '06069%'\n",
      "Humboldt County\n",
      "023\n",
      "GEOID LIKE '06023%'\n",
      "Riverside County\n",
      "065\n",
      "GEOID LIKE '06065%'\n",
      "Kern County\n",
      "029\n",
      "GEOID LIKE '06029%'\n",
      "Colusa County\n",
      "011\n",
      "GEOID LIKE '06011%'\n",
      "Del Norte County\n",
      "015\n",
      "GEOID LIKE '06015%'\n",
      "Modoc County\n",
      "049\n",
      "GEOID LIKE '06049%'\n",
      "Fresno County\n",
      "019\n",
      "GEOID LIKE '06019%'\n",
      "Madera County\n",
      "039\n",
      "GEOID LIKE '06039%'\n",
      "Santa Clara County\n",
      "085\n",
      "GEOID LIKE '06085%'\n",
      "Tehama County\n",
      "103\n",
      "GEOID LIKE '06103%'\n",
      "San Joaquin County\n",
      "077\n",
      "GEOID LIKE '06077%'\n",
      "Alameda County\n",
      "001\n",
      "GEOID LIKE '06001%'\n",
      "Nevada County\n",
      "057\n",
      "GEOID LIKE '06057%'\n",
      "Butte County\n",
      "007\n",
      "GEOID LIKE '06007%'\n",
      "Merced County\n",
      "047\n",
      "GEOID LIKE '06047%'\n",
      "Tulare County\n",
      "107\n",
      "GEOID LIKE '06107%'\n",
      "Stanislaus County\n",
      "099\n",
      "GEOID LIKE '06099%'\n",
      "Orange County\n",
      "059\n",
      "GEOID LIKE '06059%'\n",
      "Imperial County\n",
      "025\n",
      "GEOID LIKE '06025%'\n",
      "Sutter County\n",
      "101\n",
      "GEOID LIKE '06101%'\n",
      "Amador County\n",
      "005\n",
      "GEOID LIKE '06005%'\n",
      "Lake County\n",
      "033\n",
      "GEOID LIKE '06033%'\n",
      "Plumas County\n",
      "063\n",
      "GEOID LIKE '06063%'\n",
      "San Mateo County\n",
      "081\n",
      "GEOID LIKE '06081%'\n",
      "Siskiyou County\n",
      "093\n",
      "GEOID LIKE '06093%'\n",
      "Santa Cruz County\n",
      "087\n",
      "GEOID LIKE '06087%'\n",
      "Glenn County\n",
      "021\n",
      "GEOID LIKE '06021%'\n",
      "San Luis Obispo County\n",
      "079\n",
      "GEOID LIKE '06079%'\n"
     ]
    }
   ],
   "source": [
    "for key in countyLookUp:\n",
    "    countyName = key\n",
    "    countyFIPS = countyLookUp[key]\n",
    "    sqlTract = \"GEOID LIKE '06{0}%'\".format(countyFIPS)\n",
    "    print(countyName)\n",
    "    print(countyFIPS)\n",
    "    print(sqlTract)\n",
    "    with arcpy.da.UpdateCursor(tract,[\"GEOID\",\"CountyName\"],sqlTract) as cursor:\n",
    "        for row in cursor:\n",
    "            row[1] = countyName\n",
    "            cursor.updateRow(row)"
   ]
  },
  {
   "cell_type": "code",
   "execution_count": null,
   "metadata": {},
   "outputs": [],
   "source": []
  }
 ],
 "metadata": {
  "kernelspec": {
   "display_name": "ArcGISPro",
   "language": "Python",
   "name": "python3"
  },
  "language_info": {
   "file_extension": ".py",
   "name": "python",
   "version": "3"
  }
 },
 "nbformat": 4,
 "nbformat_minor": 2
}
