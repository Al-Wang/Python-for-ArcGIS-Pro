{
 "cells": [
  {
   "cell_type": "code",
   "execution_count": 139,
   "metadata": {},
   "outputs": [],
   "source": [
    "import os\n",
    "import csv"
   ]
  },
  {
   "cell_type": "code",
   "execution_count": 145,
   "metadata": {},
   "outputs": [],
   "source": [
    "def createCSV(data, csvName, mode ='w'):\n",
    "    with open(csvName, mode, newline='') as csvfile:\n",
    "        csvwriter = csv.writer(csvfile)\n",
    "        csvwriter.writerow(data)"
   ]
  },
  {
   "cell_type": "code",
   "execution_count": 140,
   "metadata": {},
   "outputs": [],
   "source": [
    "AC_TransitStops = r\"C:\\PythonBook\\UniqueStops_Summer21\\UniqueStops_Summer21.shp\"\n",
    "transbayRoutes = [\"F\",\"G\",\"J\",\"L\",\"LA\",\"NL\",\"NX\",\"O\",\"P\",\"U\",\"V\",\"W\"]\n",
    "csvHeader = [\"511 Stop ID\",\"Stop Description\",\"Route\",\"X\",\"Y\"]\n",
    "csvFolder = r\"C:\\PythonBook\\Chapter4\\Chapter4\\TransbayStops\""
   ]
  },
  {
   "cell_type": "code",
   "execution_count": 146,
   "metadata": {},
   "outputs": [
    {
     "name": "stdout",
     "output_type": "stream",
     "text": [
      "\"ROUTE\" LIKE '%F%'\n",
      "TransbayStopsRoute_F.csv\n",
      "C:\\PythonBook\\Chapter4\\Chapter4\\TransbayStops\\TransbayStopsRoute_F.csv\n",
      "\"ROUTE\" LIKE '%G%'\n",
      "TransbayStopsRoute_G.csv\n",
      "C:\\PythonBook\\Chapter4\\Chapter4\\TransbayStops\\TransbayStopsRoute_G.csv\n",
      "\"ROUTE\" LIKE '%J%'\n",
      "TransbayStopsRoute_J.csv\n",
      "C:\\PythonBook\\Chapter4\\Chapter4\\TransbayStops\\TransbayStopsRoute_J.csv\n",
      "\"ROUTE\" LIKE '%L%'\n",
      "TransbayStopsRoute_L.csv\n",
      "C:\\PythonBook\\Chapter4\\Chapter4\\TransbayStops\\TransbayStopsRoute_L.csv\n",
      "\"ROUTE\" LIKE '%LA%'\n",
      "TransbayStopsRoute_LA.csv\n",
      "C:\\PythonBook\\Chapter4\\Chapter4\\TransbayStops\\TransbayStopsRoute_LA.csv\n",
      "\"ROUTE\" LIKE '%NL%'\n",
      "TransbayStopsRoute_NL.csv\n",
      "C:\\PythonBook\\Chapter4\\Chapter4\\TransbayStops\\TransbayStopsRoute_NL.csv\n",
      "\"ROUTE\" LIKE '%NX%'\n",
      "TransbayStopsRoute_NX.csv\n",
      "C:\\PythonBook\\Chapter4\\Chapter4\\TransbayStops\\TransbayStopsRoute_NX.csv\n",
      "\"ROUTE\" LIKE '%O%'\n",
      "TransbayStopsRoute_O.csv\n",
      "C:\\PythonBook\\Chapter4\\Chapter4\\TransbayStops\\TransbayStopsRoute_O.csv\n",
      "\"ROUTE\" LIKE '%P%'\n",
      "TransbayStopsRoute_P.csv\n",
      "C:\\PythonBook\\Chapter4\\Chapter4\\TransbayStops\\TransbayStopsRoute_P.csv\n",
      "\"ROUTE\" LIKE '%U%'\n",
      "TransbayStopsRoute_U.csv\n",
      "C:\\PythonBook\\Chapter4\\Chapter4\\TransbayStops\\TransbayStopsRoute_U.csv\n",
      "\"ROUTE\" LIKE '%V%'\n",
      "TransbayStopsRoute_V.csv\n",
      "C:\\PythonBook\\Chapter4\\Chapter4\\TransbayStops\\TransbayStopsRoute_V.csv\n",
      "\"ROUTE\" LIKE '%W%'\n",
      "TransbayStopsRoute_W.csv\n",
      "C:\\PythonBook\\Chapter4\\Chapter4\\TransbayStops\\TransbayStopsRoute_W.csv\n"
     ]
    }
   ],
   "source": [
    "for route in transbayRoutes:\n",
    "    sql = '\"ROUTE\" LIKE \\'%{0}%\\''.format(route)\n",
    "    print(sql)\n",
    "    csvName = \"TransbayStopsRoute_{0}.csv\".format(route)\n",
    "    print(csvName)\n",
    "    csvFullPath = os.path.join(csvFolder,csvName)\n",
    "    print(csvFullPath)\n",
    "    createCSV(csvHeader,csvFullPath)\n",
    "    with arcpy.da.SearchCursor(AC_TransitStops,[\"STP_511_ID\",\"STP_DESCRI\",\"ROUTE\",\"SHAPE@XY\"],sql) as cursor:\n",
    "        for row in cursor:\n",
    "            stopID = row[0]\n",
    "            stopDesc = row[1]\n",
    "            route = row[2]\n",
    "            locX = row[3][0]\n",
    "            locY = row[3][1]\n",
    "            csvData = [stopID,stopDesc,route,locX,locY]\n",
    "            print(csvData)\n",
    "            createCSV(csvData,csvFullPath,mode='a')"
   ]
  },
  {
   "cell_type": "code",
   "execution_count": null,
   "metadata": {},
   "outputs": [],
   "source": []
  }
 ],
 "metadata": {
  "kernelspec": {
   "display_name": "ArcGISPro",
   "language": "Python",
   "name": "python3"
  },
  "language_info": {
   "file_extension": ".py",
   "name": "python",
   "version": "3"
  }
 },
 "nbformat": 4,
 "nbformat_minor": 2
}
